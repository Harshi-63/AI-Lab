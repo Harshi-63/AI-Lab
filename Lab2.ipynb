{
  "nbformat": 4,
  "nbformat_minor": 0,
  "metadata": {
    "colab": {
      "provenance": [],
      "authorship_tag": "ABX9TyNtIsgYeiJMYabArOixhCfV",
      "include_colab_link": true
    },
    "kernelspec": {
      "name": "python3",
      "display_name": "Python 3"
    },
    "language_info": {
      "name": "python"
    }
  },
  "cells": [
    {
      "cell_type": "markdown",
      "metadata": {
        "id": "view-in-github",
        "colab_type": "text"
      },
      "source": [
        "<a href=\"https://colab.research.google.com/github/Harshi-63/AI-Lab/blob/main/Lab2.ipynb\" target=\"_parent\"><img src=\"https://colab.research.google.com/assets/colab-badge.svg\" alt=\"Open In Colab\"/></a>"
      ]
    },
    {
      "cell_type": "code",
      "execution_count": 10,
      "metadata": {
        "id": "bvgb1fxB7qis"
      },
      "outputs": [],
      "source": [
        "import networkx as nx\n",
        "import matplotlib.pyplot as plt\n",
        "from collections import deque\n",
        "import time"
      ]
    },
    {
      "cell_type": "code",
      "source": [
        "# Create a sample graph representing a city map\n",
        "def create_city_graph():\n",
        "    city_graph = nx.Graph()\n",
        "    # Add edges (roads) between intersections (nodes)\n",
        "    city_graph.add_edges_from([\n",
        "        (\"A\", \"B\"), (\"A\", \"C\"), (\"B\", \"D\"), (\"C\", \"D\"), (\"C\", \"E\"),\n",
        "        (\"D\", \"F\"), (\"E\", \"F\"), (\"E\", \"G\"), (\"F\", \"H\"), (\"G\", \"H\"),\n",
        "    ])\n",
        "    return city_graph\n"
      ],
      "metadata": {
        "id": "xydCRsix7xKv"
      },
      "execution_count": 11,
      "outputs": []
    },
    {
      "cell_type": "code",
      "source": [
        "# Bi-directional BFS implementation\n",
        "def bidirectional_bfs(graph, start, goal):\n",
        "    if start == goal:\n",
        "        return [start], 1  # Path and nodes explored\n",
        "\n",
        "    front_queue = deque([start])\n",
        "    back_queue = deque([goal])\n",
        "    front_visited = {start: None}\n",
        "    back_visited = {goal: None}\n",
        "    nodes_explored = 0\n",
        "\n",
        "    while front_queue and back_queue:\n",
        "        nodes_explored += 1\n",
        "        if explore_level(graph, front_queue, front_visited, back_visited):\n",
        "            path = reconstruct_path(front_visited, back_visited, start, goal)\n",
        "            return path, nodes_explored\n",
        "\n",
        "        nodes_explored += 1\n",
        "        if explore_level(graph, back_queue, back_visited, front_visited):\n",
        "            path = reconstruct_path(front_visited, back_visited, start, goal)\n",
        "            return path, nodes_explored\n",
        "\n",
        "    return None, nodes_explored"
      ],
      "metadata": {
        "id": "GoBiaxPg73NK"
      },
      "execution_count": 12,
      "outputs": []
    },
    {
      "cell_type": "code",
      "source": [
        "def explore_level(graph, queue, visited, other_visited):\n",
        "    current = queue.popleft()\n",
        "    for neighbor in graph.neighbors(current):\n",
        "        if neighbor not in visited:\n",
        "            visited[neighbor] = current\n",
        "            queue.append(neighbor)\n",
        "            if neighbor in other_visited:\n",
        "                return True\n",
        "    return False\n",
        "\n",
        "def reconstruct_path(front_visited, back_visited, start, goal):\n",
        "    path = []\n",
        "    node = next(iter(set(front_visited) & set(back_visited)))\n",
        "     # Reconstruct from start to meeting point\n",
        "    while node:\n",
        "        path.append(node)\n",
        "        node = front_visited[node]\n",
        "    path.reverse()\n",
        "\n",
        "    # Reconstruct from meeting point to goal\n",
        "    node = next(iter(set(front_visited) & set(back_visited)))\n",
        "    node = back_visited[node]\n",
        "    while node:\n",
        "        path.append(node)\n",
        "        node = back_visited[node]\n",
        "\n",
        "    return path"
      ],
      "metadata": {
        "id": "A_dsbgYk8YdS"
      },
      "execution_count": 13,
      "outputs": []
    },
    {
      "cell_type": "code",
      "source": [
        "def bfs(graph, start, goal):\n",
        "    queue = deque([start])\n",
        "    visited = {start: None}\n",
        "    nodes_explored = 0\n",
        "\n",
        "    while queue:\n",
        "        nodes_explored += 1\n",
        "        current = queue.popleft()\n",
        "        if current == goal:\n",
        "            path = reconstruct_single_path(visited, start, goal)\n",
        "            return path, nodes_explored\n",
        "\n",
        "        for neighbor in graph.neighbors(current):\n",
        "            if neighbor not in visited:\n",
        "                visited[neighbor] = current\n",
        "                queue.append(neighbor)\n",
        "\n",
        "    return None, nodes_explored\n"
      ],
      "metadata": {
        "id": "SHo5qGyt-cZP"
      },
      "execution_count": 14,
      "outputs": []
    },
    {
      "cell_type": "code",
      "source": [
        "# Standard DFS implementation\n",
        "def dfs(graph, start, goal):\n",
        "    stack = [start]\n",
        "    visited = {start: None}\n",
        "    nodes_explored = 0\n",
        "\n",
        "    while stack:\n",
        "        nodes_explored += 1\n",
        "        current = stack.pop()\n",
        "        if current == goal:\n",
        "            path = reconstruct_single_path(visited, start, goal)\n",
        "            return path, nodes_explored\n",
        "\n",
        "        for neighbor in graph.neighbors(current):\n",
        "            if neighbor not in visited:\n",
        "                visited[neighbor] = current\n",
        "                stack.append(neighbor)\n",
        "\n",
        "    return None, nodes_explored\n",
        "\n",
        "def reconstruct_single_path(visited, start, goal):\n",
        "    path = []\n",
        "    node = goal\n",
        "    while node:\n",
        "        path.append(node)\n",
        "        node = visited[node]\n",
        "    return path[::-1]"
      ],
      "metadata": {
        "id": "UiI8nbxa8l2v"
      },
      "execution_count": 15,
      "outputs": []
    },
    {
      "cell_type": "code",
      "source": [
        "# Visualize the search process\n",
        "def visualize_graph(graph, path=None):\n",
        "    pos = nx.spring_layout(graph)\n",
        "    nx.draw(graph, pos, with_labels=True, node_color=\"lightblue\", node_size=500)\n",
        "    if path:\n",
        "        edges = [(path[i], path[i + 1]) for i in range(len(path) - 1)]\n",
        "        nx.draw_networkx_edges(graph, pos, edgelist=edges, edge_color=\"red\", width=2)\n",
        "    plt.show()\n",
        "\n",
        "# Compare performance\n",
        "def compare_algorithms(graph, start, goal):\n",
        "    algorithms = {\n",
        "        \"Bi-directional BFS\": bidirectional_bfs,\n",
        "        \"BFS\": bfs,\n",
        "        \"DFS\": dfs\n",
        "    }\n",
        "    for name, algorithm in algorithms.items():\n",
        "        start_time = time.time()\n",
        "        path, nodes_explored = algorithm(graph, start, goal)\n",
        "        end_time = time.time()\n",
        "        print(f\"{name} Path: {path}, Nodes Explored: {nodes_explored}, Time: {end_time - start_time:.6f}s\")"
      ],
      "metadata": {
        "id": "aP5deRkH8xCa"
      },
      "execution_count": 16,
      "outputs": []
    },
    {
      "cell_type": "code",
      "source": [
        "# Main function\n",
        "def main():\n",
        "    graph = create_city_graph()\n",
        "    start, goal = \"A\", \"H\"\n",
        "\n",
        "    print(\"Visualizing City Map:\")\n",
        "    visualize_graph(graph)\n",
        "\n",
        "    print(\"\\nComparing Algorithms:\")\n",
        "    compare_algorithms(graph, start, goal)\n",
        "\n",
        "if __name__ == \"__main__\":\n",
        "    main()\n",
        "\n"
      ],
      "metadata": {
        "colab": {
          "base_uri": "https://localhost:8080/",
          "height": 620
        },
        "id": "g3qI9HXs826a",
        "outputId": "097243ee-ddd0-4e6f-93b0-52b857622eb9"
      },
      "execution_count": 17,
      "outputs": [
        {
          "output_type": "stream",
          "name": "stdout",
          "text": [
            "Visualizing City Map:\n"
          ]
        },
        {
          "output_type": "display_data",
          "data": {
            "text/plain": [
              "<Figure size 640x480 with 1 Axes>"
            ],
            "image/png": "[encoded data removed]"
          },
          "metadata": {}
        },
        {
          "output_type": "stream",
          "name": "stdout",
          "text": [
            "\n",
            "Comparing Algorithms:\n",
            "Bi-directional BFS Path: ['A', 'B', 'D', 'F', 'H'], Nodes Explored: 4, Time: 0.000036s\n",
            "BFS Path: ['A', 'B', 'D', 'F', 'H'], Nodes Explored: 8, Time: 0.000025s\n",
            "DFS Path: ['A', 'C', 'E', 'G', 'H'], Nodes Explored: 5, Time: 0.000020s\n"
          ]
        }
      ]
    },
    {
      "cell_type": "code",
      "source": [],
      "metadata": {
        "id": "o4Glg-aQ8_Ad"
      },
      "execution_count": 8,
      "outputs": []
    }
  ]
}