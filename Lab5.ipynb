{
  "nbformat": 4,
  "nbformat_minor": 0,
  "metadata": {
    "colab": {
      "provenance": [],
      "authorship_tag": "ABX9TyPGXtiCLvbkcgeVxLYb/kHG",
      "include_colab_link": true
    },
    "kernelspec": {
      "name": "python3",
      "display_name": "Python 3"
    },
    "language_info": {
      "name": "python"
    }
  },
  "cells": [
    {
      "cell_type": "markdown",
      "metadata": {
        "id": "view-in-github",
        "colab_type": "text"
      },
      "source": [
        "<a href=\"https://colab.research.google.com/github/Harshi-63/AI-Lab/blob/main/Lab5.ipynb\" target=\"_parent\"><img src=\"https://colab.research.google.com/assets/colab-badge.svg\" alt=\"Open In Colab\"/></a>"
      ]
    },
    {
      "cell_type": "code",
      "execution_count": 2,
      "metadata": {
        "colab": {
          "base_uri": "https://localhost:8080/",
          "height": 146
        },
        "id": "O0CbHx2UDjEb",
        "outputId": "cbe47422-f496-4dc7-e806-4174ec19c5b5"
      },
      "outputs": [
        {
          "output_type": "stream",
          "name": "stdout",
          "text": [
            "Solution found in 14 moves.\n",
            "Time taken: 0.0047 seconds\n"
          ]
        },
        {
          "output_type": "display_data",
          "data": {
            "text/plain": [
              "<Figure size 1200x600 with 15 Axes>"
            ],
            "image/png": "[encoded data removed]"
          },
          "metadata": {}
        }
      ],
      "source": [
        "import heapq\n",
        "import numpy as np\n",
        "import matplotlib.pyplot as plt\n",
        "import time\n",
        "\n",
        "class Puzzle:\n",
        "    def __init__(self, start, goal):\n",
        "        self.start = tuple(start)\n",
        "        self.goal = tuple(goal)\n",
        "        self.n = int(len(start) ** 0.5)  # Grid size (3 for 8-puzzle)\n",
        "\n",
        "    def heuristic(self, state, method=\"misplaced\"):\n",
        "        \"\"\" Compute heuristic value based on method.\"\"\"\n",
        "        state = np.array(state).reshape(self.n, self.n)\n",
        "        goal = np.array(self.goal).reshape(self.n, self.n)\n",
        "\n",
        "        if method == \"misplaced\":\n",
        "            return np.sum(state != goal) - 1  # Exclude blank tile\n",
        "        elif method == \"manhattan\":\n",
        "            distance = 0\n",
        "            for i in range(self.n):\n",
        "                for j in range(self.n):\n",
        "                    if state[i, j] != 0:\n",
        "                        x, y = np.where(goal == state[i, j])\n",
        "                        distance += abs(x[0] - i) + abs(y[0] - j)\n",
        "            return distance\n",
        "        return 0\n",
        "\n",
        "    def get_neighbors(self, state):\n",
        "        \"\"\" Generate possible moves from current state. \"\"\"\n",
        "        state = list(state)\n",
        "        blank = state.index(0)\n",
        "        x, y = divmod(blank, self.n)\n",
        "        moves = []\n",
        "        directions = [(0, 1), (1, 0), (0, -1), (-1, 0)]\n",
        "\n",
        "        for dx, dy in directions:\n",
        "            nx, ny = x + dx, y + dy\n",
        "            if 0 <= nx < self.n and 0 <= ny < self.n:\n",
        "                new_state = state[:]\n",
        "                new_blank = nx * self.n + ny\n",
        "                new_state[blank], new_state[new_blank] = new_state[new_blank], new_state[blank]\n",
        "                moves.append(tuple(new_state))\n",
        "\n",
        "        return moves\n",
        "\n",
        "    def a_star(self, heuristic=\"misplaced\"):\n",
        "        \"\"\" A* search algorithm. \"\"\"\n",
        "        open_set = []\n",
        "        heapq.heappush(open_set, (0, self.start))\n",
        "        came_from = {}\n",
        "        g_score = {self.start: 0}\n",
        "        f_score = {self.start: self.heuristic(self.start, heuristic)}\n",
        "\n",
        "        while open_set:\n",
        "            _, current = heapq.heappop(open_set)\n",
        "            if current == self.goal:\n",
        "                return self.reconstruct_path(came_from, current)\n",
        "\n",
        "            for neighbor in self.get_neighbors(current):\n",
        "                tentative_g = g_score[current] + 1\n",
        "                if neighbor not in g_score or tentative_g < g_score[neighbor]:\n",
        "                    came_from[neighbor] = current\n",
        "                    g_score[neighbor] = tentative_g\n",
        "                    f_score[neighbor] = tentative_g + self.heuristic(neighbor, heuristic)\n",
        "                    heapq.heappush(open_set, (f_score[neighbor], neighbor))\n",
        "\n",
        "        return None  # No solution found\n",
        "\n",
        "    def reconstruct_path(self, came_from, current):\n",
        "        \"\"\" Reconstruct path from goal to start. \"\"\"\n",
        "        path = [current]\n",
        "        while current in came_from:\n",
        "            current = came_from[current]\n",
        "            path.insert(0, current)\n",
        "        return path\n",
        "\n",
        "def visualize_solution(path):\n",
        "    \"\"\" Visualize steps of solution. \"\"\"\n",
        "    plt.figure(figsize=(12, 6))\n",
        "    for i, state in enumerate(path):\n",
        "        plt.subplot(1, len(path), i + 1)\n",
        "        plt.imshow(np.array(state).reshape(3, 3), cmap='gray', interpolation='nearest')\n",
        "        plt.axis('off')\n",
        "        plt.title(f\"Step {i}\")\n",
        "    plt.show()\n",
        "\n",
        "if __name__ == \"__main__\":\n",
        "    start_state = [1, 2, 3, 4, 0, 5, 6, 7, 8]  # Initial state\n",
        "    goal_state = [1, 2, 3, 4, 5, 6, 7, 8, 0]  # Goal state\n",
        "\n",
        "    puzzle = Puzzle(start_state, goal_state)\n",
        "    start_time = time.time()\n",
        "    solution = puzzle.a_star(\"misplaced\")\n",
        "    end_time = time.time()\n",
        "\n",
        "    if solution:\n",
        "        print(\"Solution found in\", len(solution) - 1, \"moves.\")\n",
        "        print(\"Time taken:\", round(end_time - start_time, 4), \"seconds\")\n",
        "        visualize_solution(solution)\n",
        "    else:\n",
        "        print(\"No solution found.\")\n"
      ]
    }
  ]
}