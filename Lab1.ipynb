{
  "nbformat": 4,
  "nbformat_minor": 0,
  "metadata": {
    "colab": {
      "provenance": [],
      "authorship_tag": "ABX9TyPmDXrVlxL1CAh/eWjER1ws",
      "include_colab_link": true
    },
    "kernelspec": {
      "name": "python3",
      "display_name": "Python 3"
    },
    "language_info": {
      "name": "python"
    }
  },
  "cells": [
    {
      "cell_type": "markdown",
      "metadata": {
        "id": "view-in-github",
        "colab_type": "text"
      },
      "source": [
        "<a href=\"https://colab.research.google.com/github/Harshi-63/AI-Lab/blob/main/Lab1.ipynb\" target=\"_parent\"><img src=\"https://colab.research.google.com/assets/colab-badge.svg\" alt=\"Open In Colab\"/></a>"
      ]
    },
    {
      "cell_type": "code",
      "execution_count": 2,
      "metadata": {
        "collapsed": true,
        "id": "8w0GFcbaer45"
      },
      "outputs": [],
      "source": [
        "# Import necessary libraries\n",
        "import matplotlib.pyplot as plt\n",
        "import numpy as np\n",
        "from queue import Queue\n"
      ]
    },
    {
      "cell_type": "code",
      "source": [
        "# Function to generate a random maze\n",
        "def generate_maze(rows, cols):\n",
        "    maze = np.random.choice([0, 1], size=(rows, cols), p=[0.7, 0.3])\n",
        "    maze[0, 0] = 0  # Start point\n",
        "    maze[rows - 1, cols - 1] = 0  # End point\n",
        "    return maze"
      ],
      "metadata": {
        "id": "9gAauq_efLYP"
      },
      "execution_count": 3,
      "outputs": []
    },
    {
      "cell_type": "code",
      "source": [
        "# Function to visualize the maze with optional path\n",
        "def visualize_maze(maze, start, end, path=None):\n",
        "    plt.figure(figsize=(6, 6))\n",
        "    plt.imshow(maze, cmap=\"binary\")\n",
        "    if path:\n",
        "        for r, c in path:\n",
        "            plt.scatter(c, r, color=\"red\", s=10)  # Path in red\n",
        "    plt.scatter(start[1], start[0], color=\"green\", label=\"Start\")  # Start in green\n",
        "    plt.scatter(end[1], end[0], color=\"blue\", label=\"End\")  # End in blue\n",
        "    plt.legend()\n",
        "    plt.show()\n"
      ],
      "metadata": {
        "id": "nsMN4jV_fRW0"
      },
      "execution_count": 4,
      "outputs": []
    },
    {
      "cell_type": "code",
      "source": [
        "# BFS algorithm to find the shortest path\n",
        "def solve_bfs(maze, start, end):\n",
        "    rows, cols = maze.shape\n",
        "    visited = set()\n",
        "    queue = Queue()\n",
        "    queue.put((start, [start]))\n",
        "\n",
        "    while not queue.empty():\n",
        "        current, path = queue.get()\n",
        "        if current == end:\n",
        "            return path\n",
        "\n",
        "        r, c = current\n",
        "        for dr, dc in [(0, 1), (1, 0), (0, -1), (-1, 0)]:\n",
        "            nr, nc = r + dr, c + dc\n",
        "            if 0 <= nr < rows and 0 <= nc < cols and (nr, nc) not in visited and maze[nr, nc] == 0:\n",
        "                visited.add((nr, nc))\n",
        "                queue.put(((nr, nc), path + [(nr, nc)]))\n",
        "\n",
        "    return None\n",
        "\n"
      ],
      "metadata": {
        "id": "4BYLtTLGfXwy"
      },
      "execution_count": 5,
      "outputs": []
    },
    {
      "cell_type": "code",
      "source": [
        "# DFS algorithm to find a path\n",
        "def solve_dfs(maze, start, end):\n",
        "    rows, cols = maze.shape\n",
        "    visited = set()\n",
        "    stack = [(start, [start])]\n",
        "\n",
        "    while stack:\n",
        "        current, path = stack.pop()\n",
        "        if current == end:\n",
        "            return path\n",
        "\n",
        "        r, c = current\n",
        "        for dr, dc in [(0, 1), (1, 0), (0, -1), (-1, 0)]:\n",
        "            nr, nc = r + dr, c + dc\n",
        "            if 0 <= nr < rows and 0 <= nc < cols and (nr, nc) not in visited and maze[nr, nc] == 0:\n",
        "                visited.add((nr, nc))\n",
        "                stack.append(((nr, nc), path + [(nr, nc)]))\n",
        "\n",
        "    return None"
      ],
      "metadata": {
        "id": "Td1HWcFgfbqQ"
      },
      "execution_count": 6,
      "outputs": []
    },
    {
      "cell_type": "code",
      "source": [
        "# Main function to interact with the user\n",
        "def main():\n",
        "    rows, cols = 12, 12  # Default maze size\n",
        "    maze = generate_maze(rows, cols)\n",
        "    start = (0, 0)\n",
        "    end = (rows - 1, cols - 1)\n",
        "\n",
        "    while True:\n",
        "        print(\"\\nOptions:\")\n",
        "        print(\"1. Solve using BFS\")\n",
        "        print(\"2. Solve using DFS\")\n",
        "        print(\"3. Regenerate Maze\")\n",
        "        print(\"4. Exit\")\n",
        "        choice = input(\"Enter your choice: \")\n",
        "\n",
        "        if choice == \"1\":\n",
        "            print(\"Running BFS...\")\n",
        "            path = solve_bfs(maze, start, end)\n",
        "            if path:\n",
        "                print(f\"Path found! Length: {len(path)}\")\n",
        "                visualize_maze(maze, start, end, path)\n",
        "            else:\n",
        "                print(\"No path found!\")\n",
        "\n",
        "        elif choice == \"2\":\n",
        "            print(\"Running DFS...\")\n",
        "            path = solve_dfs(maze, start, end)\n",
        "            if path:\n",
        "                print(f\"Path found! Length: {len(path)}\")\n",
        "                visualize_maze(maze, start, end, path)\n",
        "            else:\n",
        "                print(\"No path found!\")\n",
        "\n",
        "        elif choice == \"3\":\n",
        "            print(\"Regenerating maze...\")\n",
        "            maze = generate_maze(rows, cols)\n",
        "            visualize_maze(maze, start, end)\n",
        "\n",
        "        elif choice == \"4\":\n",
        "            print(\"Exiting...\")\n",
        "            break\n",
        "\n",
        "        else:\n",
        "            print(\"Invalid choice. Please try again.\")"
      ],
      "metadata": {
        "id": "mp7UBSYZflV0"
      },
      "execution_count": 7,
      "outputs": []
    },
    {
      "cell_type": "code",
      "source": [
        "# Run the main function\n",
        "if __name__ == \"__main__\":\n",
        "    main()"
      ],
      "metadata": {
        "colab": {
          "base_uri": "https://localhost:8080/",
          "height": 1000
        },
        "id": "sWsgfxbSfnbw",
        "outputId": "53cfff7e-d3f8-4719-d225-fcd33c329b1c"
      },
      "execution_count": 8,
      "outputs": [
        {
          "output_type": "stream",
          "name": "stdout",
          "text": [
            "\n",
            "Options:\n",
            "1. Solve using BFS\n",
            "2. Solve using DFS\n",
            "3. Regenerate Maze\n",
            "4. Exit\n",
            "Enter your choice: 1\n",
            "Running BFS...\n",
            "Path found! Length: 25\n"
          ]
        },
        {
          "output_type": "display_data",
          "data": {
            "text/plain": [
              "<Figure size 600x600 with 1 Axes>"
            ],
            "image/png": "[encoded data removed]"
          },
          "metadata": {}
        },
        {
          "output_type": "stream",
          "name": "stdout",
          "text": [
            "\n",
            "Options:\n",
            "1. Solve using BFS\n",
            "2. Solve using DFS\n",
            "3. Regenerate Maze\n",
            "4. Exit\n",
            "Enter your choice: 2\n",
            "Running DFS...\n",
            "Path found! Length: 49\n"
          ]
        },
        {
          "output_type": "display_data",
          "data": {
            "text/plain": [
              "<Figure size 600x600 with 1 Axes>"
            ],
            "image/png": "[encoded data removed]"
          },
          "metadata": {}
        },
        {
          "output_type": "stream",
          "name": "stdout",
          "text": [
            "\n",
            "Options:\n",
            "1. Solve using BFS\n",
            "2. Solve using DFS\n",
            "3. Regenerate Maze\n",
            "4. Exit\n",
            "Enter your choice: 3\n",
            "Regenerating maze...\n"
          ]
        },
        {
          "output_type": "display_data",
          "data": {
            "text/plain": [
              "<Figure size 600x600 with 1 Axes>"
            ],
            "image/png": "[encoded data removed]"
          },
          "metadata": {}
        },
        {
          "output_type": "stream",
          "name": "stdout",
          "text": [
            "\n",
            "Options:\n",
            "1. Solve using BFS\n",
            "2. Solve using DFS\n",
            "3. Regenerate Maze\n",
            "4. Exit\n",
            "Enter your choice: 4\n",
            "Exiting...\n"
          ]
        }
      ]
    }
  ]
}