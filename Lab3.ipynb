{
  "nbformat": 4,
  "nbformat_minor": 0,
  "metadata": {
    "colab": {
      "provenance": [],
      "authorship_tag": "ABX9TyNK6oQaJ/Kp8p1htbQu9BQS",
      "include_colab_link": true
    },
    "kernelspec": {
      "name": "python3",
      "display_name": "Python 3"
    },
    "language_info": {
      "name": "python"
    }
  },
  "cells": [
    {
      "cell_type": "markdown",
      "metadata": {
        "id": "view-in-github",
        "colab_type": "text"
      },
      "source": [
        "<a href=\"https://colab.research.google.com/github/Harshi-63/AI-Lab/blob/main/Lab3.ipynb\" target=\"_parent\"><img src=\"https://colab.research.google.com/assets/colab-badge.svg\" alt=\"Open In Colab\"/></a>"
      ]
    },
    {
      "cell_type": "code",
      "source": [
        "pip install pyvirtualdisplay\n"
      ],
      "metadata": {
        "colab": {
          "base_uri": "https://localhost:8080/"
        },
        "id": "e2X_OWNP8JqT",
        "outputId": "aed62700-2789-4263-df57-e2ba00908b13"
      },
      "execution_count": 23,
      "outputs": [
        {
          "output_type": "stream",
          "name": "stdout",
          "text": [
            "Collecting pyvirtualdisplay\n",
            "  Downloading PyVirtualDisplay-3.0-py3-none-any.whl.metadata (943 bytes)\n",
            "Downloading PyVirtualDisplay-3.0-py3-none-any.whl (15 kB)\n",
            "Installing collected packages: pyvirtualdisplay\n",
            "Successfully installed pyvirtualdisplay-3.0\n"
          ]
        }
      ]
    },
    {
      "cell_type": "code",
      "execution_count": 24,
      "metadata": {
        "id": "fM4qJzhaJG5Z"
      },
      "outputs": [],
      "source": [
        "import tkinter as tk\n",
        "from queue import PriorityQueue\n",
        "import numpy as np\n",
        "from typing import List,Tuple,Set\n",
        "import time\n",
        "from pyvirtualdisplay import Display"
      ]
    },
    {
      "cell_type": "code",
      "source": [
        "class TreasureHuntGUI:\n",
        "  def __init__(self,grid_size:int,cell_size:int=80):\n",
        "    self.root= root\n",
        "    self.root.title=(\"Treasure Hunt- Best First Search\")\n",
        "    self.grid_size=grid_size\n",
        "    self.cell_size=cell_size\n",
        "\n",
        "    self.main_frame=tk.Frame(root)\n",
        "    self.main_frame.pack(expand=True,fill='both',padx=20,pady=20)\n",
        "\n",
        "    canvas_size=grid_size*cell_size\n",
        "    self.canvas=tk.Canvas(self.main_frame,width=canvas_size,height=canvas_size)\n",
        "    self.canvas.pack(side=tk.LEFT)\n",
        "\n",
        "    self.info_panel =tk.Frame(self.main_frame)\n",
        "    self.info_panel.pack(side=tk.LEFT,padx=20,fill='y')\n",
        "\n",
        "    self.control_panel=tk.Frame(self.info_panel)\n",
        "    self.control_panel.pack(fill='x',pady=10)\n",
        "\n",
        "    self.start_button=tk.Button(self.control_panel,text=\"Start Search\",command=self.start_search)\n",
        "    self.start_button.pack(fill='x',pady=2)\n",
        "\n",
        "    self.reset_button=tk.Button(self.control_panel,text=\"Reset\",command=self.reset)\n",
        "    self.reset_button.pack(fill='x',pady=2)\n",
        "\n",
        "    speed_frame=tk.Frame(self.control_panel)\n",
        "    speed_frame.pack(fill='x',pady=2)\n",
        "    tk.Label(speed_frame,text=\"Speed: \").pack(side=tk.LEFT)\n",
        "    self.speed_var=tk.StringVar(value=\"Normal\")\n",
        "    self.speed_menu=tk.OptionMenu(speed_frame,self.speed_var,\"slow\",\"Normal\",\"Fast\")\n",
        "    self.speed_menu.pack(side=tk.LEFT,padx=5)\n",
        "\n",
        "    self.stat_frame=tk.LabelFrame(self.info_panel,text=\"Statistics\",padx=5,pady=5)\n",
        "    self.stat_frame.pack(fill='x',pady=10)\n",
        "\n",
        "    self.nodes_explored_var=tk.StringVar(value=\"Nodes explored: 0\")\n",
        "    tk.Label(self.stats_frame,textvariable=self.nodes_explored_var).pack(anchor='w')\n",
        "\n",
        "    self.current_heuristic_var=tk.StringVar(value=\"Current heuristic:- \")\n",
        "    tk.Label(self.stat_frame,textvariable=self.current_heuristic_var).pack(anchor='w')\n",
        "\n",
        "    self.path_length_var=tk.StringVar(value=\"Path length:- \")\n",
        "    tk.Label(self.stats_frame,textvariable=self.path_length_var).pack(anchor='w')\n",
        "\n",
        "    self.legend_frame=tk.LabelFrame(self.info_panel,text=\"Legend\",padx=5,pady=5)\n",
        "\n",
        "    legend_items=[\n",
        "        (\"Start\",\"green\"),\n",
        "        (\"Target\",\"gold\"),\n",
        "        (\"Current Node\",\"yellow\"),\n",
        "        (\"Explored\",\"pink\"),\n",
        "        (\"Path\",\"light blue\"),\n",
        "        (\"Frontier\",\"light green\")\n",
        "    ]\n",
        "\n",
        "    for text,color in legend_items:\n",
        "      frame=tk.Frame(self.legend_frame)\n",
        "      frame.pack(fill='x',pady=1)\n",
        "      tk.Canvas(frame,width=20,height=20,bg=color).pack(side=tk.LEFT,padx=5)\n",
        "      tk.Label(frame,text=text).pack(side=tk.LEFT)\n",
        "\n",
        "      self.draw_grid()\n",
        "      self.intialize_game()\n",
        "\n",
        "\n"
      ],
      "metadata": {
        "id": "0tmiM6e9JiVE"
      },
      "execution_count": 25,
      "outputs": []
    },
    {
      "cell_type": "code",
      "source": [
        "def get_animation_delay(self):\n",
        "  speeds={\"Slow\":1000,\"Normal\":500,\"Fast\":100}\n",
        "  return speeds(self.speed_var)"
      ],
      "metadata": {
        "id": "b7U97CyesaUt"
      },
      "execution_count": 26,
      "outputs": []
    },
    {
      "cell_type": "code",
      "source": [
        "def draw_grid(self):\n",
        "  self.canvas.delete(\"all\")\n",
        "  for i in range(self.grid_size):\n",
        "    for j in range(self.grid_size):\n",
        "      x1=j*self.cell_size\n",
        "      y1=i*self.cell_size\n",
        "      x2=x1+self.cell_size\n",
        "      x2=y1+self.cell_size\n",
        "      self.canvas.create_rectangle(x1,x2,y1,y2,fill=\"white\",outline=\"gray\",tags=\"cell\")\n",
        ""
      ],
      "metadata": {
        "id": "QW4dujsetIv3"
      },
      "execution_count": 27,
      "outputs": []
    },
    {
      "cell_type": "code",
      "source": [
        "def draw_cell(self,pos:Tuple[int,int],color:str,text:str=\"\",show_heuristic:bool=True):\n",
        "  x1=pos[1]*self.cell_size\n",
        "  y1=pos[0]*self.cell_size\n",
        "  x2=x1+self.cell_size\n",
        "  y2=y1+self.cell_size\n",
        "\n",
        "  self.canvas.create_rectangle(x1,y1,x2,y2,fill=color,outline=\"gray\")\n",
        "  if show_heuristic:\n",
        "    heuristic=self.hunt.grid[pos]\n",
        "    self.canvas.create_text((x1+x2)/2,(y1+y2)/2+10,\n",
        "                            text=f\"h={herustic:1f}\",\n",
        "                            font=(\"Arial\",10))"
      ],
      "metadata": {
        "id": "linLNj6CukHX"
      },
      "execution_count": 28,
      "outputs": []
    },
    {
      "cell_type": "code",
      "source": [
        "def intialize_game(self):\n",
        "  self.start_pos=(0,0)\n",
        "  self.teasure_pos=(self.grid_size-1,self.grid_size-1)\n",
        "  self.hunt=TreasureHunt(self.grid_size,self.treasure_pos)\n",
        "  for i in range(self-grid_size):\n",
        "   for j in range(self-grid_size):\n",
        "     self.draw_cell((i, j), \"white\")\n",
        "# Draw start and target positions\n",
        "   self.draw_cell(self.start_pos, \"green\", \"S\")\n",
        "   self.draw_cell(self. treasure_pos, \"gold\", \"T\")\n",
        "# Reset statistics\n",
        "   self.nodes_explored_var.set(\"Nodes explored: ®\")\n",
        "   self.current_heuristic_var.set(\"Current heuristic: -\")\n",
        "   self.path_length_var.set(\"Path length: -\")"
      ],
      "metadata": {
        "id": "mC75lwqVx26U"
      },
      "execution_count": 29,
      "outputs": []
    },
    {
      "cell_type": "code",
      "source": [
        "def highlight_frontier(self, frontier_nodes: List[Tuple[int, int]]):\n",
        " for pos in frontier_nodes:\n",
        "  if pos != self.start_pos and pos != self. treasure_pos:\n",
        "    self.draw_cell(pos, \"light green\")"
      ],
      "metadata": {
        "id": "NO5jCOvM0yty"
      },
      "execution_count": 30,
      "outputs": []
    },
    {
      "cell_type": "code",
      "source": [
        "def animate_search(self, path: List[Tuple[int, int]], visited: List[Tuple[int, int]], frontier: List[Tuple[int, int]]):\n",
        " if not visited:\n",
        "  if path:\n",
        "   for pos in path:\n",
        "    if pos != self.start_pos and pos != self.treasure_pos:\n",
        "     self.draw_cell(pos,\"light blue\")\n",
        "   self.path_length_var.set(f\"Path length: (Len(path)\")\n",
        "  return\n",
        " current_pos = visited.pop(0)\n",
        " current_frontier = frontier .pop(0)\n",
        "\n",
        " self.nodes_explored_var.set(f\"Nodes explored: (len(path) - len(visited) )\")\n",
        " self.current_heuristic_var.set(f\"Current heuristic: {self.hunt.grid[current_pos]:.1f}\")\n",
        "\n",
        " if current_pos != self.start_pos and current_pos != self.treasure_pos:\n",
        "  self.draw_cell(current_pos,\"yellow\") # Current node in yellow\n",
        "  self.highlight_frontier(current_frontier)\n",
        "\n",
        " self.root.after(self.get_animation_delay(),\n",
        "                 lambda: self.animate_search(path, visited, frontier))\n",
        " self.root.after(self.get_animation_delay() - 50,\n",
        "    lambda: self.draw_cell(current_pos, \"pink\")\n",
        "    if current_pos != self.start_pos and current_pos != self.treasure_pos else None\n",
        " )\n"
      ],
      "metadata": {
        "id": "0IScjjaA1cmy"
      },
      "execution_count": 31,
      "outputs": []
    },
    {
      "cell_type": "code",
      "source": [
        "def start_search(self):\n",
        "    \"\"\"Start the search animation\"\"\"\n",
        "    self.start_button.config(state=tk.DISABLED)  # Disable the start button during the search\n",
        "    path, nodes_explored, visited, frontiers = self.hunt.best_first_search(self.start_pos)\n",
        "\n",
        "    if path:\n",
        "        self.animate_search(path, visited, frontiers)  # Animate the search if a path is found\n",
        "    else:\n",
        "        self.current_heuristic_var.set(\"No path found!\")"
      ],
      "metadata": {
        "id": "RT9q7fyv4CYU"
      },
      "execution_count": 32,
      "outputs": []
    },
    {
      "cell_type": "code",
      "source": [
        "def reset(self):\n",
        "    \"\"\"Reset the grid and controls\"\"\"\n",
        "    self.draw_grid()  # Redraw the grid to its initial state\n",
        "    self.initialize_game()  # Reinitialize game variables\n",
        "    self.start_button.config(state=tk.NORMAL)"
      ],
      "metadata": {
        "id": "XA-c6bS64eIb"
      },
      "execution_count": 33,
      "outputs": []
    },
    {
      "cell_type": "code",
      "source": [
        "class TreasureHunt:\n",
        "    def __init__(self, grid_size: int, treasure_pos: Tuple[int, int]):\n",
        "        \"\"\"\n",
        "        Initialize the TreasureHunt game with a grid and treasure position.\n",
        "        \"\"\"\n",
        "        self.grid_size = grid_size\n",
        "        self.treasure_pos = treasure_pos\n",
        "        self.grid = self.create_grid_with_heuristic()  # Initialize the grid with heuristics\n",
        "\n",
        "    def create_grid_with_heuristic(self):\n",
        "        \"\"\"\n",
        "        Create a grid with heuristic values based on the treasure position.\n",
        "        \"\"\"\n",
        "        grid = {}\n",
        "        for x in range(self.grid_size):\n",
        "            for y in range(self.grid_size):\n",
        "                # Calculate the heuristic value (e.g., Manhattan distance to the treasure)\n",
        "                heuristic = abs(self.treasure_pos[0] - x) + abs(self.treasure_pos[1] - y)\n",
        "                grid[(x, y)] = heuristic\n",
        "        return grid"
      ],
      "metadata": {
        "id": "tm6GI3bU4htk"
      },
      "execution_count": 34,
      "outputs": []
    },
    {
      "cell_type": "code",
      "source": [
        "def manhattan_distance(self, pos1: Tuple[int, int], pos2: Tuple[int, int]) -> int:\n",
        "    \"\"\"\n",
        "    Calculate the Manhattan distance between two positions.\n",
        "    \"\"\"\n",
        "    return abs(pos1[0] - pos2[0]) + abs(pos1[1] - pos2[1])\n",
        "\n",
        "def create_grid_with_heuristic(self) -> np.ndarray:\n",
        "    \"\"\"\n",
        "    Create a grid with heuristic values based on Manhattan distance to the treasure position.\n",
        "    \"\"\"\n",
        "    grid = np.zeros((self.grid_size, self.grid_size))  # Initialize a grid with zeros\n",
        "    for i in range(self.grid_size):\n",
        "        for j in range(self.grid_size):\n",
        "            grid[i][j] = self.manhattan_distance((i, j), self.treasure_pos)\n",
        "    return grid\n",
        "\n",
        "def get_neighbors(self, pos: Tuple[int, int]) -> List[Tuple[int, int]]:\n",
        "    \"\"\"\n",
        "    Get valid neighboring positions for a given position in the grid.\n",
        "    \"\"\"\n",
        "    neighbors = []\n",
        "    directions = [(0, 1), (1, 0), (0, -1), (-1, 0)]  # Right, Down, Left, Up\n",
        "    for dx, dy in directions:\n",
        "        new_x, new_y = pos[0] + dx, pos[1] + dy\n",
        "        if 0 <= new_x < self.grid_size and 0 <= new_y < self.grid_size:\n",
        "            neighbors.append((new_x, new_y))  # Add valid neighbor\n",
        "    return neighbors\n"
      ],
      "metadata": {
        "id": "OiQXAHKM5QU6"
      },
      "execution_count": 35,
      "outputs": []
    },
    {
      "cell_type": "code",
      "source": [
        "\n",
        "\n",
        "def best_first_search(self, start_pos: Tuple[int, int]) -> Tuple[\n",
        "    List[Tuple[int, int]], int, List[Tuple[int, int]], List[List[Tuple[int, int]]]\n",
        "]:\n",
        "    \"\"\"\n",
        "    Perform Best-First Search to find a path to the treasure.\n",
        "\n",
        "    :param start_pos: The starting position of the search.\n",
        "    :return: A tuple containing:\n",
        "        - The path from start to treasure (or an empty list if no path exists),\n",
        "        - Number of nodes explored,\n",
        "        - List of visited nodes,\n",
        "        - List of frontier states at each step.\n",
        "    \"\"\"\n",
        "    frontier = PriorityQueue()\n",
        "    frontier.put((self.grid[start_pos], start_pos))  # Priority based on heuristic value\n",
        "    frontier_nodes = set([start_pos])  # Track nodes in the frontier\n",
        "    came_from: Dict[Tuple[int, int], Tuple[int, int]] = {start_pos: None}  # Tracks the path\n",
        "    nodes_explored = 0\n",
        "    visited = []  # Track visited nodes for visualization\n",
        "    frontiers = []  # Save frontier states at each step\n",
        "\n",
        "    while not frontier.empty():\n",
        "        # Get the node with the lowest heuristic value\n",
        "        current_cost, current_pos = frontier.get()\n",
        "        frontier_nodes.remove(current_pos)\n",
        "        visited.append(current_pos)\n",
        "        frontiers.append(list(frontier_nodes))  # Save current frontier state\n",
        "        nodes_explored += 1\n",
        "\n",
        "        if current_pos == self. treasure_pos:\n",
        "          path = self.reconstruct_path(came_from, current_pos)\n",
        "          return path, nodes_explored, visited, frontiers\n",
        "        for next_pos in self-get_neighbors(current_pos):\n",
        "          if next_pos not in came_from:\n",
        "            priority = self-grid[next_pos]\n",
        "            frontier.put((priority, next_pos))\n",
        "            frontier_nodes.add(next_pos)\n",
        "            came_from[next_pos] = current_pos\n",
        "        return [], nodes_explored, visited, frontiers\n"
      ],
      "metadata": {
        "id": "SE5yt6v35VRI"
      },
      "execution_count": 36,
      "outputs": []
    },
    {
      "cell_type": "code",
      "source": [
        "def reconstruct_path(self, came_from: dict, current_pos: Tuple[int, int]) -> List [Tuple[int, int]]:\n",
        "  path = []\n",
        "  while current_pos is not None:\n",
        "    path. append (current_pos)\n",
        "    current_pos = came_from[current_pos]\n",
        "  return path[::-1]\n"
      ],
      "metadata": {
        "id": "Km-hpyxs66Rc"
      },
      "execution_count": 37,
      "outputs": []
    },
    {
      "cell_type": "code",
      "source": [
        "from pyvirtualdisplay import Display\n",
        "import tkinter as tk\n",
        "def main():\n",
        "    display = Display(visible=0, size=(800, 600))\n",
        "    display.start()\n",
        "\n",
        "    root = tk.Tk()\n",
        "    app = TreasureHuntGUI(root, grid_size=6)  # Smaller grid for better visibility\n",
        "    root.mainloop()\n",
        "\n",
        "    display.stop()\n",
        "\n",
        "if __name__ == \"__main__\":\n",
        "    main()"
      ],
      "metadata": {
        "colab": {
          "base_uri": "https://localhost:8080/",
          "height": 339
        },
        "id": "vUAoB1Sy7UrB",
        "outputId": "7011ce48-b112-4d81-dc5a-75f9c85546a5"
      },
      "execution_count": 39,
      "outputs": [
        {
          "output_type": "error",
          "ename": "FileNotFoundError",
          "evalue": "[Errno 2] No such file or directory: 'Xvfb'",
          "traceback": [
            "\u001b[0;31m---------------------------------------------------------------------------\u001b[0m",
            "\u001b[0;31mFileNotFoundError\u001b[0m                         Traceback (most recent call last)",
            "\u001b[0;32m<ipython-input-39-f62eff0447eb>\u001b[0m in \u001b[0;36m<cell line: 0>\u001b[0;34m()\u001b[0m\n\u001b[1;32m     12\u001b[0m \u001b[0;34m\u001b[0m\u001b[0m\n\u001b[1;32m     13\u001b[0m \u001b[0;32mif\u001b[0m \u001b[0m__name__\u001b[0m \u001b[0;34m==\u001b[0m \u001b[0;34m\"__main__\"\u001b[0m\u001b[0;34m:\u001b[0m\u001b[0;34m\u001b[0m\u001b[0;34m\u001b[0m\u001b[0m\n\u001b[0;32m---> 14\u001b[0;31m     \u001b[0mmain\u001b[0m\u001b[0;34m(\u001b[0m\u001b[0;34m)\u001b[0m\u001b[0;34m\u001b[0m\u001b[0;34m\u001b[0m\u001b[0m\n\u001b[0m",
            "\u001b[0;32m<ipython-input-39-f62eff0447eb>\u001b[0m in \u001b[0;36mmain\u001b[0;34m()\u001b[0m\n\u001b[1;32m      2\u001b[0m \u001b[0;32mimport\u001b[0m \u001b[0mtkinter\u001b[0m \u001b[0;32mas\u001b[0m \u001b[0mtk\u001b[0m\u001b[0;34m\u001b[0m\u001b[0;34m\u001b[0m\u001b[0m\n\u001b[1;32m      3\u001b[0m \u001b[0;32mdef\u001b[0m \u001b[0mmain\u001b[0m\u001b[0;34m(\u001b[0m\u001b[0;34m)\u001b[0m\u001b[0;34m:\u001b[0m\u001b[0;34m\u001b[0m\u001b[0;34m\u001b[0m\u001b[0m\n\u001b[0;32m----> 4\u001b[0;31m     \u001b[0mdisplay\u001b[0m \u001b[0;34m=\u001b[0m \u001b[0mDisplay\u001b[0m\u001b[0;34m(\u001b[0m\u001b[0mvisible\u001b[0m\u001b[0;34m=\u001b[0m\u001b[0;36m0\u001b[0m\u001b[0;34m,\u001b[0m \u001b[0msize\u001b[0m\u001b[0;34m=\u001b[0m\u001b[0;34m(\u001b[0m\u001b[0;36m800\u001b[0m\u001b[0;34m,\u001b[0m \u001b[0;36m600\u001b[0m\u001b[0;34m)\u001b[0m\u001b[0;34m)\u001b[0m\u001b[0;34m\u001b[0m\u001b[0;34m\u001b[0m\u001b[0m\n\u001b[0m\u001b[1;32m      5\u001b[0m     \u001b[0mdisplay\u001b[0m\u001b[0;34m.\u001b[0m\u001b[0mstart\u001b[0m\u001b[0;34m(\u001b[0m\u001b[0;34m)\u001b[0m\u001b[0;34m\u001b[0m\u001b[0;34m\u001b[0m\u001b[0m\n\u001b[1;32m      6\u001b[0m \u001b[0;34m\u001b[0m\u001b[0m\n",
            "\u001b[0;32m/usr/local/lib/python3.11/dist-packages/pyvirtualdisplay/display.py\u001b[0m in \u001b[0;36m__init__\u001b[0;34m(self, backend, visible, size, color_depth, bgcolor, use_xauth, retries, extra_args, manage_global_env, **kwargs)\u001b[0m\n\u001b[1;32m     52\u001b[0m             \u001b[0;32mraise\u001b[0m \u001b[0mValueError\u001b[0m\u001b[0;34m(\u001b[0m\u001b[0;34m\"unknown backend: %s\"\u001b[0m \u001b[0;34m%\u001b[0m \u001b[0mself\u001b[0m\u001b[0;34m.\u001b[0m\u001b[0m_backend\u001b[0m\u001b[0;34m)\u001b[0m\u001b[0;34m\u001b[0m\u001b[0;34m\u001b[0m\u001b[0m\n\u001b[1;32m     53\u001b[0m \u001b[0;34m\u001b[0m\u001b[0m\n\u001b[0;32m---> 54\u001b[0;31m         self._obj = cls(\n\u001b[0m\u001b[1;32m     55\u001b[0m             \u001b[0msize\u001b[0m\u001b[0;34m=\u001b[0m\u001b[0msize\u001b[0m\u001b[0;34m,\u001b[0m\u001b[0;34m\u001b[0m\u001b[0;34m\u001b[0m\u001b[0m\n\u001b[1;32m     56\u001b[0m             \u001b[0mcolor_depth\u001b[0m\u001b[0;34m=\u001b[0m\u001b[0mcolor_depth\u001b[0m\u001b[0;34m,\u001b[0m\u001b[0;34m\u001b[0m\u001b[0;34m\u001b[0m\u001b[0m\n",
            "\u001b[0;32m/usr/local/lib/python3.11/dist-packages/pyvirtualdisplay/xvfb.py\u001b[0m in \u001b[0;36m__init__\u001b[0;34m(self, size, color_depth, bgcolor, use_xauth, fbdir, dpi, retries, extra_args, manage_global_env)\u001b[0m\n\u001b[1;32m     42\u001b[0m         \u001b[0mself\u001b[0m\u001b[0;34m.\u001b[0m\u001b[0m_dpi\u001b[0m \u001b[0;34m=\u001b[0m \u001b[0mdpi\u001b[0m\u001b[0;34m\u001b[0m\u001b[0;34m\u001b[0m\u001b[0m\n\u001b[1;32m     43\u001b[0m \u001b[0;34m\u001b[0m\u001b[0m\n\u001b[0;32m---> 44\u001b[0;31m         AbstractDisplay.__init__(\n\u001b[0m\u001b[1;32m     45\u001b[0m             \u001b[0mself\u001b[0m\u001b[0;34m,\u001b[0m\u001b[0;34m\u001b[0m\u001b[0;34m\u001b[0m\u001b[0m\n\u001b[1;32m     46\u001b[0m             \u001b[0mPROGRAM\u001b[0m\u001b[0;34m,\u001b[0m\u001b[0;34m\u001b[0m\u001b[0;34m\u001b[0m\u001b[0m\n",
            "\u001b[0;32m/usr/local/lib/python3.11/dist-packages/pyvirtualdisplay/abstractdisplay.py\u001b[0m in \u001b[0;36m__init__\u001b[0;34m(self, program, use_xauth, retries, extra_args, manage_global_env)\u001b[0m\n\u001b[1;32m     83\u001b[0m         \u001b[0mself\u001b[0m\u001b[0;34m.\u001b[0m\u001b[0m_retries_current\u001b[0m \u001b[0;34m=\u001b[0m \u001b[0;36m0\u001b[0m\u001b[0;34m\u001b[0m\u001b[0;34m\u001b[0m\u001b[0m\n\u001b[1;32m     84\u001b[0m \u001b[0;34m\u001b[0m\u001b[0m\n\u001b[0;32m---> 85\u001b[0;31m         \u001b[0mhelptext\u001b[0m \u001b[0;34m=\u001b[0m \u001b[0mget_helptext\u001b[0m\u001b[0;34m(\u001b[0m\u001b[0mprogram\u001b[0m\u001b[0;34m)\u001b[0m\u001b[0;34m\u001b[0m\u001b[0;34m\u001b[0m\u001b[0m\n\u001b[0m\u001b[1;32m     86\u001b[0m         \u001b[0mself\u001b[0m\u001b[0;34m.\u001b[0m\u001b[0m_has_displayfd\u001b[0m \u001b[0;34m=\u001b[0m \u001b[0;34m\"-displayfd\"\u001b[0m \u001b[0;32min\u001b[0m \u001b[0mhelptext\u001b[0m\u001b[0;34m\u001b[0m\u001b[0;34m\u001b[0m\u001b[0m\n\u001b[1;32m     87\u001b[0m         \u001b[0;32mif\u001b[0m \u001b[0;32mnot\u001b[0m \u001b[0mself\u001b[0m\u001b[0;34m.\u001b[0m\u001b[0m_has_displayfd\u001b[0m\u001b[0;34m:\u001b[0m\u001b[0;34m\u001b[0m\u001b[0;34m\u001b[0m\u001b[0m\n",
            "\u001b[0;32m/usr/local/lib/python3.11/dist-packages/pyvirtualdisplay/util.py\u001b[0m in \u001b[0;36mget_helptext\u001b[0;34m(program)\u001b[0m\n\u001b[1;32m     11\u001b[0m \u001b[0;34m\u001b[0m\u001b[0m\n\u001b[1;32m     12\u001b[0m     \u001b[0;31m# py3.6 also\u001b[0m\u001b[0;34m\u001b[0m\u001b[0;34m\u001b[0m\u001b[0m\n\u001b[0;32m---> 13\u001b[0;31m     p = subprocess.Popen(\n\u001b[0m\u001b[1;32m     14\u001b[0m         \u001b[0mcmd\u001b[0m\u001b[0;34m,\u001b[0m\u001b[0;34m\u001b[0m\u001b[0;34m\u001b[0m\u001b[0m\n\u001b[1;32m     15\u001b[0m         \u001b[0mstdout\u001b[0m\u001b[0;34m=\u001b[0m\u001b[0msubprocess\u001b[0m\u001b[0;34m.\u001b[0m\u001b[0mPIPE\u001b[0m\u001b[0;34m,\u001b[0m\u001b[0;34m\u001b[0m\u001b[0;34m\u001b[0m\u001b[0m\n",
            "\u001b[0;32m/usr/lib/python3.11/subprocess.py\u001b[0m in \u001b[0;36m__init__\u001b[0;34m(self, args, bufsize, executable, stdin, stdout, stderr, preexec_fn, close_fds, shell, cwd, env, universal_newlines, startupinfo, creationflags, restore_signals, start_new_session, pass_fds, user, group, extra_groups, encoding, errors, text, umask, pipesize, process_group)\u001b[0m\n\u001b[1;32m   1024\u001b[0m                             encoding=encoding, errors=errors)\n\u001b[1;32m   1025\u001b[0m \u001b[0;34m\u001b[0m\u001b[0m\n\u001b[0;32m-> 1026\u001b[0;31m             self._execute_child(args, executable, preexec_fn, close_fds,\n\u001b[0m\u001b[1;32m   1027\u001b[0m                                 \u001b[0mpass_fds\u001b[0m\u001b[0;34m,\u001b[0m \u001b[0mcwd\u001b[0m\u001b[0;34m,\u001b[0m \u001b[0menv\u001b[0m\u001b[0;34m,\u001b[0m\u001b[0;34m\u001b[0m\u001b[0;34m\u001b[0m\u001b[0m\n\u001b[1;32m   1028\u001b[0m                                 \u001b[0mstartupinfo\u001b[0m\u001b[0;34m,\u001b[0m \u001b[0mcreationflags\u001b[0m\u001b[0;34m,\u001b[0m \u001b[0mshell\u001b[0m\u001b[0;34m,\u001b[0m\u001b[0;34m\u001b[0m\u001b[0;34m\u001b[0m\u001b[0m\n",
            "\u001b[0;32m/usr/lib/python3.11/subprocess.py\u001b[0m in \u001b[0;36m_execute_child\u001b[0;34m(self, args, executable, preexec_fn, close_fds, pass_fds, cwd, env, startupinfo, creationflags, shell, p2cread, p2cwrite, c2pread, c2pwrite, errread, errwrite, restore_signals, gid, gids, uid, umask, start_new_session, process_group)\u001b[0m\n\u001b[1;32m   1953\u001b[0m                         \u001b[0merr_msg\u001b[0m \u001b[0;34m=\u001b[0m \u001b[0mos\u001b[0m\u001b[0;34m.\u001b[0m\u001b[0mstrerror\u001b[0m\u001b[0;34m(\u001b[0m\u001b[0merrno_num\u001b[0m\u001b[0;34m)\u001b[0m\u001b[0;34m\u001b[0m\u001b[0;34m\u001b[0m\u001b[0m\n\u001b[1;32m   1954\u001b[0m                     \u001b[0;32mif\u001b[0m \u001b[0merr_filename\u001b[0m \u001b[0;32mis\u001b[0m \u001b[0;32mnot\u001b[0m \u001b[0;32mNone\u001b[0m\u001b[0;34m:\u001b[0m\u001b[0;34m\u001b[0m\u001b[0;34m\u001b[0m\u001b[0m\n\u001b[0;32m-> 1955\u001b[0;31m                         \u001b[0;32mraise\u001b[0m \u001b[0mchild_exception_type\u001b[0m\u001b[0;34m(\u001b[0m\u001b[0merrno_num\u001b[0m\u001b[0;34m,\u001b[0m \u001b[0merr_msg\u001b[0m\u001b[0;34m,\u001b[0m \u001b[0merr_filename\u001b[0m\u001b[0;34m)\u001b[0m\u001b[0;34m\u001b[0m\u001b[0;34m\u001b[0m\u001b[0m\n\u001b[0m\u001b[1;32m   1956\u001b[0m                     \u001b[0;32melse\u001b[0m\u001b[0;34m:\u001b[0m\u001b[0;34m\u001b[0m\u001b[0;34m\u001b[0m\u001b[0m\n\u001b[1;32m   1957\u001b[0m                         \u001b[0;32mraise\u001b[0m \u001b[0mchild_exception_type\u001b[0m\u001b[0;34m(\u001b[0m\u001b[0merrno_num\u001b[0m\u001b[0;34m,\u001b[0m \u001b[0merr_msg\u001b[0m\u001b[0;34m)\u001b[0m\u001b[0;34m\u001b[0m\u001b[0;34m\u001b[0m\u001b[0m\n",
            "\u001b[0;31mFileNotFoundError\u001b[0m: [Errno 2] No such file or directory: 'Xvfb'"
          ]
        }
      ]
    }
  ]
}